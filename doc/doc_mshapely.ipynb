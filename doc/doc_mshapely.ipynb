{
 "cells": [
  {
   "cell_type": "markdown",
   "metadata": {},
   "source": [
    "# Documentation\n",
    "MShapely is a [Shapely](https://shapely.readthedocs.io/en/latest/manual.html) wrapper to enhance shapely functionalities and to manipulate spatial data for Marine Energy Resource Assessment Canada.\n",
    "\n",
    "It provides extra functionality such as complex resampling, simplification, nearest nodes, etc. MShapely was mainly developed to help the development of complex 2-dimensional meshes for free-surface hydrodynamic models in coastal regions.\n",
    "\n",
    "[![mesh](img/mesh.png)](img/mesh.png)\n",
    "\n",
    "\n",
    "#### Chaining Method\n",
    "MShapely and Shapely smartly employs a technique called chain syntax.\n",
    "By “chaining” methods together with periods, you can perform several actions in a single line of code. \n",
    "It means is that when you call a method on an object, it performs the method and returns an object. \n",
    "Since the method on an object returns an object, another method can be called without having to explicitly reference an object again. \n",
    "\n",
    "Here's an example:\n"
   ]
  },
  {
   "cell_type": "code",
   "execution_count": 1,
   "metadata": {},
   "outputs": [
    {
     "data": {
      "image/png": "[encoded data removed]",
      "text/plain": [
       "<Figure size 288x288 with 1 Axes>"
      ]
     },
     "metadata": {
      "needs_background": "light"
     },
     "output_type": "display_data"
    }
   ],
   "source": [
    "from shapely.geometry import Point\n",
    "import mshapely\n",
    "\n",
    "# Non-chaining method\n",
    "point = Point((0,0))\n",
    "circle = point.buffer(1)\n",
    "\n",
    "# Chaining method\n",
    "circle = Point((0,0)).buffer(1).plot()"
   ]
  },
  {
   "cell_type": "markdown",
   "metadata": {},
   "source": [
    "### Density Field Documentation\n",
    "[Docs](density.md)\n",
    "\n",
    "### User-guide and Examples\n",
    "New attributes and methods are applied for all geometric objects (Point, LineString, Polygon, MultiPoint, MultiLineString, MultiPolygon, GeometryCollection).\n",
    "However, some of the methods are not applicable (i.e point.resample()) and returns the original object. \n",
    "Most of the methods returns a geometric object with a few exception (i.e. object.inearest()) - check \"output\" in the method description.\n",
    "\n",
    "#### Methods and Attributes\n",
    "#### object.np"
   ]
  },
  {
   "cell_type": "code",
   "execution_count": 3,
   "metadata": {},
   "outputs": [
    {
     "name": "stdout",
     "output_type": "stream",
     "text": [
      "\n",
      "  Returns numpy array of the object.\n",
      "  It returns coordinates,(and ids for line and polygon)\n",
      "  XY coordinates are always place last.\n",
      "\n",
      "  Note\n",
      "  ----\n",
      "  x:x-coordinate\n",
      "  y:y-coordinate\n",
      "  lid: line id\n",
      "  pid: polygon id\n",
      "  cid: collection id\n",
      "  \n",
      "  Output\n",
      "  ------ \n",
      "  ndarray: 2D array\n",
      "   shape: Point, (npoint,2) : [[x,y]] \n",
      "          LineString, (npoint,3) : [[lid,x,y]]\n",
      "          Polygon, (npoint,4) : [[pid,lid,x,y]]\n",
      "          MultiPoint, (npoint,3) : [[x,y]]\n",
      "          MultiLineString, (npoint,4) : [[cid,lid,x,y]]\n",
      "          MultiPolygon, (npoint,5) : [[cid,pid,lid,x,y]]\n",
      "  \n",
      "  \n"
     ]
    }
   ],
   "source": [
    "from mshapely.mshapely import np\n",
    "print(np.__doc__)"
   ]
  },
  {
   "cell_type": "code",
   "execution_count": 9,
   "metadata": {},
   "outputs": [
    {
     "data": {
      "text/plain": [
       "array([[0., 0.]])"
      ]
     },
     "execution_count": 9,
     "metadata": {},
     "output_type": "execute_result"
    }
   ],
   "source": [
    "from shapely.geometry import Point\n",
    "Point(0,0).np"
   ]
  },
  {
   "cell_type": "code",
   "execution_count": 11,
   "metadata": {},
   "outputs": [
    {
     "data": {
      "text/plain": [
       "array([[0., 0., 0.],\n",
       "       [1., 1., 0.],\n",
       "       [2., 2., 0.]])"
      ]
     },
     "execution_count": 11,
     "metadata": {},
     "output_type": "execute_result"
    }
   ],
   "source": [
    "from shapely.geometry import LineString\n",
    "LineString([[0,0],[1,0],[2,0]]).np"
   ]
  },
  {
   "cell_type": "code",
   "execution_count": 10,
   "metadata": {},
   "outputs": [
    {
     "data": {
      "text/plain": [
       "array([[0., 0., 0., 0.],\n",
       "       [0., 1., 1., 0.],\n",
       "       [0., 2., 2., 0.],\n",
       "       [0., 0., 0., 0.]])"
      ]
     },
     "execution_count": 10,
     "metadata": {},
     "output_type": "execute_result"
    }
   ],
   "source": [
    "from shapely.geometry import Polygon\n",
    "Polygon([[0,0],[1,0],[2,0],[0,0]]).np"
   ]
  },
  {
   "cell_type": "code",
   "execution_count": 12,
   "metadata": {},
   "outputs": [
    {
     "data": {
      "text/plain": [
       "array([[0., 0.],\n",
       "       [1., 0.],\n",
       "       [2., 0.],\n",
       "       [0., 0.]])"
      ]
     },
     "execution_count": 12,
     "metadata": {},
     "output_type": "execute_result"
    }
   ],
   "source": [
    "from shapely.geometry import MultiPoint\n",
    "MultiPoint([[0,0],[1,0],[2,0],[0,0]]).np"
   ]
  },
  {
   "cell_type": "code",
   "execution_count": 16,
   "metadata": {},
   "outputs": [
    {
     "data": {
      "text/plain": [
       "array([[0., 0., 0., 0.],\n",
       "       [0., 1., 1., 0.],\n",
       "       [1., 0., 2., 0.],\n",
       "       [1., 1., 3., 0.]])"
      ]
     },
     "execution_count": 16,
     "metadata": {},
     "output_type": "execute_result"
    }
   ],
   "source": [
    "from shapely.geometry import MultiLineString\n",
    "MultiLineString([[[0,0],[1,0]],[[2,0],[3,0]]]).np"
   ]
  },
  {
   "cell_type": "code",
   "execution_count": 17,
   "metadata": {},
   "outputs": [
    {
     "data": {
      "text/plain": [
       "array([[0., 0., 0., 0., 0.],\n",
       "       [0., 0., 1., 1., 0.],\n",
       "       [0., 0., 2., 2., 0.],\n",
       "       [0., 0., 0., 0., 0.]])"
      ]
     },
     "execution_count": 17,
     "metadata": {},
     "output_type": "execute_result"
    }
   ],
   "source": [
    "from shapely.geometry import MultiPolygon\n",
    "MultiPolygon([Polygon([[0,0],[1,0],[2,0],[0,0]])]).np"
   ]
  },
  {
   "cell_type": "code",
   "execution_count": null,
   "metadata": {},
   "outputs": [],
   "source": []
  }
 ],
 "metadata": {
  "kernelspec": {
   "display_name": "Python 3",
   "language": "python",
   "name": "python3"
  },
  "language_info": {
   "codemirror_mode": {
    "name": "ipython",
    "version": 3
   },
   "file_extension": ".py",
   "mimetype": "text/x-python",
   "name": "python",
   "nbconvert_exporter": "python",
   "pygments_lexer": "ipython3",
   "version": "3.8.1"
  }
 },
 "nbformat": 4,
 "nbformat_minor": 4
}
